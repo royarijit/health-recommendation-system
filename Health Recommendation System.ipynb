{
 "cells": [
  {
   "cell_type": "code",
   "execution_count": 16,
   "metadata": {},
   "outputs": [
    {
     "data": {
      "text/html": [
       "<div>\n",
       "<style scoped>\n",
       "    .dataframe tbody tr th:only-of-type {\n",
       "        vertical-align: middle;\n",
       "    }\n",
       "\n",
       "    .dataframe tbody tr th {\n",
       "        vertical-align: top;\n",
       "    }\n",
       "\n",
       "    .dataframe thead th {\n",
       "        text-align: right;\n",
       "    }\n",
       "</style>\n",
       "<table border=\"1\" class=\"dataframe\">\n",
       "  <thead>\n",
       "    <tr style=\"text-align: right;\">\n",
       "      <th></th>\n",
       "      <th>Disease</th>\n",
       "      <th>Count of Disease Occurrence</th>\n",
       "      <th>Symptom</th>\n",
       "    </tr>\n",
       "  </thead>\n",
       "  <tbody>\n",
       "    <tr>\n",
       "      <th>0</th>\n",
       "      <td>diabetes</td>\n",
       "      <td>1421.0</td>\n",
       "      <td>polyuria</td>\n",
       "    </tr>\n",
       "    <tr>\n",
       "      <th>1</th>\n",
       "      <td>NaN</td>\n",
       "      <td>NaN</td>\n",
       "      <td>polydypsia</td>\n",
       "    </tr>\n",
       "    <tr>\n",
       "      <th>2</th>\n",
       "      <td>NaN</td>\n",
       "      <td>NaN</td>\n",
       "      <td>shortness of breath</td>\n",
       "    </tr>\n",
       "    <tr>\n",
       "      <th>3</th>\n",
       "      <td>NaN</td>\n",
       "      <td>NaN</td>\n",
       "      <td>pain chest</td>\n",
       "    </tr>\n",
       "    <tr>\n",
       "      <th>4</th>\n",
       "      <td>NaN</td>\n",
       "      <td>NaN</td>\n",
       "      <td>asthenia</td>\n",
       "    </tr>\n",
       "  </tbody>\n",
       "</table>\n",
       "</div>"
      ],
      "text/plain": [
       "    Disease  Count of Disease Occurrence              Symptom\n",
       "0  diabetes                       1421.0             polyuria\n",
       "1       NaN                          NaN           polydypsia\n",
       "2       NaN                          NaN  shortness of breath\n",
       "3       NaN                          NaN           pain chest\n",
       "4       NaN                          NaN             asthenia"
      ]
     },
     "execution_count": 16,
     "metadata": {},
     "output_type": "execute_result"
    }
   ],
   "source": [
    "import pandas as pd\n",
    "from collections import defaultdict\n",
    "df = pd.read_csv('Dataset.csv')\n",
    "df.head()"
   ]
  },
  {
   "cell_type": "code",
   "execution_count": 5,
   "metadata": {},
   "outputs": [],
   "source": [
    "data = df.fillna(method='ffill')"
   ]
  },
  {
   "cell_type": "code",
   "execution_count": 6,
   "metadata": {},
   "outputs": [
    {
     "data": {
      "text/html": [
       "<div>\n",
       "<style scoped>\n",
       "    .dataframe tbody tr th:only-of-type {\n",
       "        vertical-align: middle;\n",
       "    }\n",
       "\n",
       "    .dataframe tbody tr th {\n",
       "        vertical-align: top;\n",
       "    }\n",
       "\n",
       "    .dataframe thead th {\n",
       "        text-align: right;\n",
       "    }\n",
       "</style>\n",
       "<table border=\"1\" class=\"dataframe\">\n",
       "  <thead>\n",
       "    <tr style=\"text-align: right;\">\n",
       "      <th></th>\n",
       "      <th>Disease</th>\n",
       "      <th>Count of Disease Occurrence</th>\n",
       "      <th>Symptom</th>\n",
       "    </tr>\n",
       "  </thead>\n",
       "  <tbody>\n",
       "    <tr>\n",
       "      <th>0</th>\n",
       "      <td>diabetes</td>\n",
       "      <td>1421.0</td>\n",
       "      <td>polyuria</td>\n",
       "    </tr>\n",
       "    <tr>\n",
       "      <th>1</th>\n",
       "      <td>diabetes</td>\n",
       "      <td>1421.0</td>\n",
       "      <td>polydypsia</td>\n",
       "    </tr>\n",
       "    <tr>\n",
       "      <th>2</th>\n",
       "      <td>diabetes</td>\n",
       "      <td>1421.0</td>\n",
       "      <td>shortness of breath</td>\n",
       "    </tr>\n",
       "    <tr>\n",
       "      <th>3</th>\n",
       "      <td>diabetes</td>\n",
       "      <td>1421.0</td>\n",
       "      <td>pain chest</td>\n",
       "    </tr>\n",
       "    <tr>\n",
       "      <th>4</th>\n",
       "      <td>diabetes</td>\n",
       "      <td>1421.0</td>\n",
       "      <td>asthenia</td>\n",
       "    </tr>\n",
       "  </tbody>\n",
       "</table>\n",
       "</div>"
      ],
      "text/plain": [
       "    Disease  Count of Disease Occurrence              Symptom\n",
       "0  diabetes                       1421.0             polyuria\n",
       "1  diabetes                       1421.0           polydypsia\n",
       "2  diabetes                       1421.0  shortness of breath\n",
       "3  diabetes                       1421.0           pain chest\n",
       "4  diabetes                       1421.0             asthenia"
      ]
     },
     "execution_count": 6,
     "metadata": {},
     "output_type": "execute_result"
    }
   ],
   "source": [
    "data.head()"
   ]
  },
  {
   "cell_type": "code",
   "execution_count": 14,
   "metadata": {},
   "outputs": [
    {
     "name": "stdout",
     "output_type": "stream",
     "text": [
      "['diabetes' 'depressive ' 'anxiety ' 'hemorrhoids' 'schizophrenia'\n",
      " 'pneumonia' 'diverticulitis' 'bronchitis' 'asthma' 'arthritis']\n"
     ]
    }
   ],
   "source": [
    "Disease_list=data['Disease'].unique()\n",
    "print(Disease_list)"
   ]
  },
  {
   "cell_type": "code",
   "execution_count": 8,
   "metadata": {},
   "outputs": [
    {
     "data": {
      "text/plain": [
       "10"
      ]
     },
     "execution_count": 8,
     "metadata": {},
     "output_type": "execute_result"
    }
   ],
   "source": [
    "len(data['Disease'].unique())"
   ]
  },
  {
   "cell_type": "code",
   "execution_count": 9,
   "metadata": {},
   "outputs": [
    {
     "data": {
      "text/plain": [
       "106"
      ]
     },
     "execution_count": 9,
     "metadata": {},
     "output_type": "execute_result"
    }
   ],
   "source": [
    "len(data['Symptom'].unique())"
   ]
  },
  {
   "cell_type": "code",
   "execution_count": 41,
   "metadata": {},
   "outputs": [
    {
     "name": "stdout",
     "output_type": "stream",
     "text": [
      "('polyuria', 'polydypsia', 'shortness of breath', 'pain chest', 'asthenia', 'nausea', 'orthopnea', 'rale', 'sweating increased', 'unresponsiveness', 'mental status changes', 'vertigo', 'vomiting', 'labored breathing', 'feeling suicidal', 'suicidal', 'hallucinations auditory', 'feeling hopeless', 'weepiness', 'sleeplessness', 'motor retardation', 'irritable mood', 'blackout', 'mood depressed', 'hallucinations visual', 'worry', 'agitation', 'tremor', 'intoxication', 'verbal auditory hallucinations', 'energy increased', 'difficulty', 'nightmare', 'unable to concentrate', 'homelessness', 'has religious belief', 'nervousness', 'formication', 'patient non compliance', 'palpitation', 'hot flush', 'pain', 'consciousness clear', 'haemorrhage', 'bowel sounds decreased', 'decreased stool caliber', 'nausea and vomiting', 'hunger', 'diarrhea', 'dizziness', 'hyponatremia', 'clonus', 'achalasia', 'burning sensation', 'guaiac positive', 'numbness of hand', 'wheezing', 'cough', 'hypersomnolence', 'underweight', 'fever', 'decreased translucency', 'productive cough', 'pleuritic pain', 'yellow sputum', 'breath sounds decreased', 'chill', 'rhonchus', 'green sputum', 'non-productive cough', 'haemoptysis', 'distress respiratory', 'tachypnea', 'malaise', 'night sweat', 'pain abdominal', 'abscess bacterial', 'dullness', 'red blotches', 'sore to touch', 'dysuria', 'sinus rhythm', 'colic abdominal', 'apyrexial', 'abdominal tenderness', 'unsteady gait', 'thicken', 'urgency of\\xa0micturition', 'anorexia', 'monoclonal', 'constipation', 'chest tightness', 'throat sore', 'hepatosplenomegaly', 'snuffle', 'hacking cough', 'dyspnea', 'stridor', 'decreased body weight', 'symptom aggravating factors', 'hemodynamically stable', 'syncope', 'swelling', 'atypia', 'general unsteadiness', 'distended abdomen')\n"
     ]
    }
   ],
   "source": [
    "Symptom_list=tuple(data['Symptom'].unique())\n",
    "print(Symptom_list)"
   ]
  },
  {
   "cell_type": "code",
   "execution_count": 58,
   "metadata": {},
   "outputs": [],
   "source": [
    "input_Symptom_list=('shortness of breath','rale')"
   ]
  },
  {
   "cell_type": "code",
   "execution_count": 59,
   "metadata": {},
   "outputs": [],
   "source": [
    "symptom_disease_dict = defaultdict(list)\n",
    "for symptom in input_Symptom_list:\n",
    "    for idx, row in data.iterrows():\n",
    "        if row[2]==symptom:\n",
    "            symptom_disease_dict[symptom].append(row[0])"
   ]
  },
  {
   "cell_type": "code",
   "execution_count": 60,
   "metadata": {},
   "outputs": [
    {
     "data": {
      "text/plain": [
       "{'shortness of breath': ['diabetes',\n",
       "  'pneumonia',\n",
       "  'bronchitis',\n",
       "  'asthma',\n",
       "  'arthritis'],\n",
       " 'rale': ['diabetes', 'pneumonia']}"
      ]
     },
     "execution_count": 60,
     "metadata": {},
     "output_type": "execute_result"
    }
   ],
   "source": [
    "Symptom_Disease = dict((symptom_disease_dict.items()))\n",
    "Symptom_Disease"
   ]
  },
  {
   "cell_type": "code",
   "execution_count": 62,
   "metadata": {},
   "outputs": [
    {
     "name": "stdout",
     "output_type": "stream",
     "text": [
      "shortness of breath ==> diabetes\n",
      "rale ==> diabetes\n"
     ]
    }
   ],
   "source": [
    "input_symptoms=('polyuria','polydypsia','pain chest','shortness of breath')\n",
    "from simpleai.search import CspProblem, backtrack\n",
    "def constraint(variables,values):\n",
    "    for i in range(len(values)-1):\n",
    "        if values[i]!=values[i+1]:\n",
    "            return False\n",
    "    return True\n",
    "\n",
    "if __name__=='__main__':\n",
    "    constraints=[(input_Symptom_list,constraint)]\n",
    "    problem=CspProblem(input_Symptom_list,Symptom_Disease,constraints)\n",
    "    output = backtrack(problem)\n",
    "    for k,v in output.items():\n",
    "        print(k, '==>',v)"
   ]
  },
  {
   "cell_type": "code",
   "execution_count": 104,
   "metadata": {},
   "outputs": [
    {
     "name": "stdout",
     "output_type": "stream",
     "text": [
      "This program going to tell you about the disease that you may have depending on your input symptoms : \n",
      "------------------------------------------------------------------------------------------------------\n",
      "This program is only going to tell u about this diseases : \n",
      "1       diabetes    2    depressive     3       anxiety     4    hemorrhoids    5  schizophrenia    \n",
      "6      pneumonia    7 diverticulitis    8     bronchitis    9         asthma    10      arthritis    \n",
      "------------------------------------------------------------------------------------------------------\n",
      "The symptoms of this diseases are : \n",
      "  1                   polyuria      2                 polydypsia      3        shortness of breath    \n",
      "  4                 pain chest      5                   asthenia      6                     nausea    \n",
      "  7                  orthopnea      8                       rale      9         sweating increased    \n",
      " 10           unresponsiveness     11      mental status changes     12                    vertigo    \n",
      " 13                   vomiting     14          labored breathing     15           feeling suicidal    \n",
      " 16                   suicidal     17    hallucinations auditory     18           feeling hopeless    \n",
      " 19                  weepiness     20              sleeplessness     21          motor retardation    \n",
      " 22             irritable mood     23                   blackout     24             mood depressed    \n",
      " 25      hallucinations visual     26                      worry     27                  agitation    \n",
      " 28                     tremor     29               intoxication     30verbal auditory hallucinations    \n",
      " 31           energy increased     32                 difficulty     33                  nightmare    \n",
      " 34      unable to concentrate     35               homelessness     36       has religious belief    \n",
      " 37                nervousness     38                formication     39     patient non compliance    \n",
      " 40                palpitation     41                  hot flush     42                       pain    \n",
      " 43        consciousness clear     44                haemorrhage     45     bowel sounds decreased    \n",
      " 46    decreased stool caliber     47        nausea and vomiting     48                     hunger    \n",
      " 49                   diarrhea     50                  dizziness     51               hyponatremia    \n",
      " 52                     clonus     53                  achalasia     54          burning sensation    \n",
      " 55            guaiac positive     56           numbness of hand     57                   wheezing    \n",
      " 58                      cough     59            hypersomnolence     60                underweight    \n",
      " 61                      fever     62     decreased translucency     63           productive cough    \n",
      " 64             pleuritic pain     65              yellow sputum     66    breath sounds decreased    \n",
      " 67                      chill     68                   rhonchus     69               green sputum    \n",
      " 70       non-productive cough     71                haemoptysis     72       distress respiratory    \n",
      " 73                  tachypnea     74                    malaise     75                night sweat    \n",
      " 76             pain abdominal     77          abscess bacterial     78                   dullness    \n",
      " 79               red blotches     80              sore to touch     81                    dysuria    \n",
      " 82               sinus rhythm     83            colic abdominal     84                  apyrexial    \n",
      " 85       abdominal tenderness     86              unsteady gait     87                    thicken    \n",
      " 88     urgency of micturition     89                   anorexia     90                 monoclonal    \n",
      " 91               constipation     92            chest tightness     93                throat sore    \n",
      " 94         hepatosplenomegaly     95                    snuffle     96              hacking cough    \n",
      " 97                    dyspnea     98                    stridor     99      decreased body weight    \n",
      "100symptom aggravating factors    101     hemodynamically stable    102                    syncope    \n",
      "103                   swelling    104                     atypia    105       general unsteadiness    \n",
      "106          distended abdomen    \n",
      "------------------------------------------------------------------------------------------------------\n",
      "To select the symptoms you have write the corresponding integers one by one :\n",
      "Symptoms numbers are :\n",
      "\n",
      "3\n",
      "Do you like to add more Symptoms : Press y or Y : y\n",
      "8\n",
      "Do you like to add more Symptoms : Press y or Y : n\n",
      "------------------------------------------------------------------------------------------------------\n",
      "Your Symptoms are : \n",
      "shortness of breath\n",
      "rale\n",
      "\n",
      "The disease that you may have is diabetes.\n"
     ]
    }
   ],
   "source": [
    "import pandas as pd\n",
    "from collections import defaultdict\n",
    "from simpleai.search import CspProblem, backtrack\n",
    "\n",
    "print(\"This program going to tell you about the disease that you may have depending on your input symptoms : \")\n",
    "print(\"------------------------------------------------------------------------------------------------------\")\n",
    "\n",
    "Dataset = pd.read_csv('Dataset.csv')\n",
    "Dataset = Dataset.fillna(method='ffill')\n",
    "Disease_list = Dataset['Disease'].unique()\n",
    "print(\"This program is only going to tell u about this diseases : \")\n",
    "for i in range(len(Disease_list)):\n",
    "    print(str(i+1)+Disease_list[i].rjust(15),end='    ')\n",
    "    if (i+1)%5==0:\n",
    "        print()\n",
    "\n",
    "print(\"------------------------------------------------------------------------------------------------------\")\n",
    "print(\"The symptoms of this diseases are : \")\n",
    "Symptom_list=data['Symptom'].unique()\n",
    "for i in range(len(Symptom_list)):\n",
    "    print(str(i+1).rjust(3)+Symptom_list[i].rjust(27),end='    ')\n",
    "    if (i+1)%3==0:\n",
    "        print()\n",
    "\n",
    "print(\"\\n------------------------------------------------------------------------------------------------------\")\n",
    "print(\"To select the symptoms you have write the corresponding integers one by one :\\nSymptoms numbers are :\\n\")\n",
    "flag='y'\n",
    "input_Symptom_list=[]\n",
    "while flag=='y' or flag=='Y':\n",
    "    input_Symptom_list.append(Symptom_list[int(input())-1])\n",
    "    flag=input(\"Do you like to add more Symptoms : Press y or Y : \")\n",
    "\n",
    "print(\"------------------------------------------------------------------------------------------------------\")\n",
    "print(\"Your Symptoms are : \")\n",
    "input_Symptom_list=tuple(input_Symptom_list)\n",
    "for i in input_Symptom_list:\n",
    "    print(i)\n",
    "\n",
    "symptom_disease_dict = defaultdict(list)\n",
    "for symptom in input_Symptom_list:\n",
    "    for idx, row in Dataset.iterrows():\n",
    "        if row[2]==symptom:\n",
    "            symptom_disease_dict[symptom].append(row[0])\n",
    "\n",
    "Symptom_Disease = dict((symptom_disease_dict.items()))\n",
    "\n",
    "def constraint(variables,values):\n",
    "    for i in range(len(values)-1):\n",
    "        if values[i]!=values[i+1]:\n",
    "            return False\n",
    "    return True\n",
    "\n",
    "constraints=[(input_Symptom_list,constraint)]\n",
    "problem=CspProblem(input_Symptom_list,Symptom_Disease,constraints)\n",
    "output = backtrack(problem)\n",
    "if output!=None:\n",
    "    print(\"\\nThe disease that you may have is \"+ output[input_Symptom_list[0]]+'.')\n",
    "else: \n",
    "    print(\"\\nYour don't have any disease from above list\")"
   ]
  },
  {
   "cell_type": "code",
   "execution_count": null,
   "metadata": {},
   "outputs": [],
   "source": []
  }
 ],
 "metadata": {
  "kernelspec": {
   "display_name": "Python 3",
   "language": "python",
   "name": "python3"
  },
  "language_info": {
   "codemirror_mode": {
    "name": "ipython",
    "version": 3
   },
   "file_extension": ".py",
   "mimetype": "text/x-python",
   "name": "python",
   "nbconvert_exporter": "python",
   "pygments_lexer": "ipython3",
   "version": "3.7.3"
  }
 },
 "nbformat": 4,
 "nbformat_minor": 2
}
